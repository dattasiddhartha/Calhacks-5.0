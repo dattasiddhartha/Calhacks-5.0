{
 "cells": [
  {
   "cell_type": "code",
   "execution_count": 1,
   "metadata": {},
   "outputs": [
    {
     "name": "stdout",
     "output_type": "stream",
     "text": [
      "Requirement already satisfied: tensorflow in c:\\users\\user\\appdata\\local\\continuum\\anaconda2\\envs\\tensorflowcuda\\lib\\site-packages (1.12.0)\n",
      "Requirement already satisfied: termcolor>=1.1.0 in c:\\users\\user\\appdata\\local\\continuum\\anaconda2\\envs\\tensorflowcuda\\lib\\site-packages (from tensorflow) (1.1.0)\n",
      "Requirement already satisfied: numpy>=1.13.3 in c:\\users\\user\\appdata\\local\\continuum\\anaconda2\\envs\\tensorflowcuda\\lib\\site-packages (from tensorflow) (1.15.4)\n",
      "Requirement already satisfied: grpcio>=1.8.6 in c:\\users\\user\\appdata\\local\\continuum\\anaconda2\\envs\\tensorflowcuda\\lib\\site-packages (from tensorflow) (1.16.1)\n",
      "Requirement already satisfied: wheel>=0.26 in c:\\users\\user\\appdata\\local\\continuum\\anaconda2\\envs\\tensorflowcuda\\lib\\site-packages (from tensorflow) (0.32.3)\n",
      "Requirement already satisfied: six>=1.10.0 in c:\\users\\user\\appdata\\local\\continuum\\anaconda2\\envs\\tensorflowcuda\\lib\\site-packages (from tensorflow) (1.12.0)\n",
      "Requirement already satisfied: gast>=0.2.0 in c:\\users\\user\\appdata\\local\\continuum\\anaconda2\\envs\\tensorflowcuda\\lib\\site-packages (from tensorflow) (0.2.2)\n",
      "Requirement already satisfied: absl-py>=0.1.6 in c:\\users\\user\\appdata\\local\\continuum\\anaconda2\\envs\\tensorflowcuda\\lib\\site-packages (from tensorflow) (0.7.0)\n",
      "Requirement already satisfied: tensorboard<1.13.0,>=1.12.0 in c:\\users\\user\\appdata\\local\\continuum\\anaconda2\\envs\\tensorflowcuda\\lib\\site-packages (from tensorflow) (1.12.2)\n",
      "Requirement already satisfied: protobuf>=3.6.1 in c:\\users\\user\\appdata\\local\\continuum\\anaconda2\\envs\\tensorflowcuda\\lib\\site-packages (from tensorflow) (3.6.1)\n",
      "Requirement already satisfied: keras-preprocessing>=1.0.5 in c:\\users\\user\\appdata\\local\\continuum\\anaconda2\\envs\\tensorflowcuda\\lib\\site-packages (from tensorflow) (1.0.5)\n",
      "Requirement already satisfied: keras-applications>=1.0.6 in c:\\users\\user\\appdata\\local\\continuum\\anaconda2\\envs\\tensorflowcuda\\lib\\site-packages (from tensorflow) (1.0.6)\n",
      "Requirement already satisfied: astor>=0.6.0 in c:\\users\\user\\appdata\\local\\continuum\\anaconda2\\envs\\tensorflowcuda\\lib\\site-packages (from tensorflow) (0.7.1)\n",
      "Requirement already satisfied: werkzeug>=0.11.10 in c:\\users\\user\\appdata\\local\\continuum\\anaconda2\\envs\\tensorflowcuda\\lib\\site-packages (from tensorboard<1.13.0,>=1.12.0->tensorflow) (0.14.1)\n",
      "Requirement already satisfied: markdown>=2.6.8 in c:\\users\\user\\appdata\\local\\continuum\\anaconda2\\envs\\tensorflowcuda\\lib\\site-packages (from tensorboard<1.13.0,>=1.12.0->tensorflow) (3.0.1)\n",
      "Requirement already satisfied: setuptools in c:\\users\\user\\appdata\\local\\continuum\\anaconda2\\envs\\tensorflowcuda\\lib\\site-packages (from protobuf>=3.6.1->tensorflow) (40.6.3)\n",
      "Requirement already satisfied: h5py in c:\\users\\user\\appdata\\local\\continuum\\anaconda2\\envs\\tensorflowcuda\\lib\\site-packages (from keras-applications>=1.0.6->tensorflow) (2.9.0)\n",
      "Requirement already satisfied: opencv-python in c:\\users\\user\\appdata\\local\\continuum\\anaconda2\\envs\\tensorflowcuda\\lib\\site-packages (4.0.0.21)\n",
      "Requirement already satisfied: numpy>=1.11.3 in c:\\users\\user\\appdata\\local\\continuum\\anaconda2\\envs\\tensorflowcuda\\lib\\site-packages (from opencv-python) (1.15.4)\n",
      "Requirement already satisfied: matplotlib in c:\\users\\user\\appdata\\local\\continuum\\anaconda2\\envs\\tensorflowcuda\\lib\\site-packages (3.0.2)\n",
      "Requirement already satisfied: cycler>=0.10 in c:\\users\\user\\appdata\\local\\continuum\\anaconda2\\envs\\tensorflowcuda\\lib\\site-packages (from matplotlib) (0.10.0)\n",
      "Requirement already satisfied: numpy>=1.10.0 in c:\\users\\user\\appdata\\local\\continuum\\anaconda2\\envs\\tensorflowcuda\\lib\\site-packages (from matplotlib) (1.15.4)\n",
      "Requirement already satisfied: python-dateutil>=2.1 in c:\\users\\user\\appdata\\local\\continuum\\anaconda2\\envs\\tensorflowcuda\\lib\\site-packages (from matplotlib) (2.7.5)\n",
      "Requirement already satisfied: pyparsing!=2.0.4,!=2.1.2,!=2.1.6,>=2.0.1 in c:\\users\\user\\appdata\\local\\continuum\\anaconda2\\envs\\tensorflowcuda\\lib\\site-packages (from matplotlib) (2.3.1)\n",
      "Requirement already satisfied: kiwisolver>=1.0.1 in c:\\users\\user\\appdata\\local\\continuum\\anaconda2\\envs\\tensorflowcuda\\lib\\site-packages (from matplotlib) (1.0.1)\n",
      "Requirement already satisfied: six in c:\\users\\user\\appdata\\local\\continuum\\anaconda2\\envs\\tensorflowcuda\\lib\\site-packages (from cycler>=0.10->matplotlib) (1.12.0)\n",
      "Requirement already satisfied: setuptools in c:\\users\\user\\appdata\\local\\continuum\\anaconda2\\envs\\tensorflowcuda\\lib\\site-packages (from kiwisolver>=1.0.1->matplotlib) (40.6.3)\n",
      "Requirement already satisfied: image in c:\\users\\user\\appdata\\local\\continuum\\anaconda2\\envs\\tensorflowcuda\\lib\\site-packages (1.5.27)\n",
      "Requirement already satisfied: django in c:\\users\\user\\appdata\\local\\continuum\\anaconda2\\envs\\tensorflowcuda\\lib\\site-packages (from image) (2.1.5)\n",
      "Requirement already satisfied: pillow in c:\\users\\user\\appdata\\local\\continuum\\anaconda2\\envs\\tensorflowcuda\\lib\\site-packages (from image) (5.4.1)\n",
      "Requirement already satisfied: pytz in c:\\users\\user\\appdata\\local\\continuum\\anaconda2\\envs\\tensorflowcuda\\lib\\site-packages (from django->image) (2018.9)\n"
     ]
    }
   ],
   "source": [
    "!pip install tensorflow\n",
    "!pip install opencv-python\n",
    "!pip install matplotlib\n",
    "!pip install image"
   ]
  },
  {
   "cell_type": "code",
   "execution_count": 2,
   "metadata": {},
   "outputs": [
    {
     "name": "stdout",
     "output_type": "stream",
     "text": [
      "1.12.0\n"
     ]
    }
   ],
   "source": [
    "# from tensorflow.python.platform import build_info as tf_build_info\n",
    "# print(tf_build_info.cuda_version_number)\n",
    "# # 9.0 in v1.10.0\n",
    "# print(tf_build_info.cudnn_version_number)\n",
    "# # 7 in v1.10.0\n",
    "\n",
    "import tensorflow as tf\n",
    "print(tf.__version__)"
   ]
  },
  {
   "cell_type": "markdown",
   "metadata": {},
   "source": [
    "# Imports"
   ]
  },
  {
   "cell_type": "code",
   "execution_count": null,
   "metadata": {},
   "outputs": [],
   "source": []
  },
  {
   "cell_type": "code",
   "execution_count": 3,
   "metadata": {
    "scrolled": true
   },
   "outputs": [],
   "source": [
    "import numpy as np\n",
    "import os\n",
    "import six.moves.urllib as urllib\n",
    "import sys\n",
    "import tarfile\n",
    "import tensorflow as tf\n",
    "import zipfile\n",
    "\n",
    "from collections import defaultdict\n",
    "from io import StringIO\n",
    "from matplotlib import pyplot as plt\n",
    "from PIL import Image\n",
    "# import Image\n",
    "\n",
    "# if tf.__version__ < '1.4.0':\n",
    "#     raise ImportError('Please upgrade your tensorflow installation to v1.4.* or later!')\n"
   ]
  },
  {
   "cell_type": "markdown",
   "metadata": {},
   "source": [
    "## Env setup"
   ]
  },
  {
   "cell_type": "code",
   "execution_count": 4,
   "metadata": {},
   "outputs": [],
   "source": [
    "# This is needed to display the images.\n",
    "%matplotlib inline\n",
    "\n",
    "# This is needed since the notebook is stored in the object_detection folder.\n",
    "sys.path.append(\"..\")"
   ]
  },
  {
   "cell_type": "markdown",
   "metadata": {},
   "source": [
    "## Object detection imports"
   ]
  },
  {
   "cell_type": "code",
   "execution_count": null,
   "metadata": {},
   "outputs": [],
   "source": [
    "from utils import label_map_util\n",
    "\n",
    "from utils import visualization_utils as vis_util"
   ]
  },
  {
   "cell_type": "markdown",
   "metadata": {},
   "source": [
    "# Model preparation "
   ]
  },
  {
   "cell_type": "markdown",
   "metadata": {},
   "source": [
    "## Load Model"
   ]
  },
  {
   "cell_type": "code",
   "execution_count": null,
   "metadata": {},
   "outputs": [],
   "source": [
    "# opener = urllib.request.URLopener()\n",
    "# print(1)\n",
    "# opener.retrieve(DOWNLOAD_BASE + MODEL_FILE, MODEL_FILE)\n",
    "# print(1)\n",
    "# MODEL_NAME = 'faster_rcnn_resnet101_kitti_2017_11_08'\n",
    "# MODEL_NAME = 'faster_rcnn_inception_resnet_v2_atrous_lowproposals_oid_2017_11_08'\n",
    "# MODEL_NAME = 'ssd_inception_v2_coco_2017_11_17 (1)'\n",
    "# MODEL_NAME = 'facessd_mobilenet_v2_quantized_320x320_open_image_v4'\n",
    "# MODEL_NAME = 'faster_rcnn_resnet101_ava_v2.1_2018_04_30'\n",
    "# MODEL_NAME = 'faster_rcnn_inception_resnet_v2_atrous_lowproposals_oid_2018_01_28'\n",
    "# MODEL_NAME = 'inception_v4_2016_09_09'\n",
    "# MODEL_NAME = 'mobilenet_v1_0.25_128_quant'\n",
    "MODEL_NAME = 'mask_rcnn_resnet50_atrous_coco_2018_01_28'\n",
    "\n",
    "# MODEL_NAME = 'ssd_mobilenet_v1_coco_2017_11_17'\n",
    "# MODEL_NAME = 'rfcn_resnet101_coco_2017_11_08'\n",
    "\n",
    "MODEL_FILE = MODEL_NAME + '.tar.gz'\n",
    "PATH_TO_CKPT = MODEL_NAME + '/frozen_inference_graph.pb'\n",
    "# PATH_TO_CKPT = 'inception_v4.ckpt'\n",
    "PATH_TO_LABELS = os.path.join('data', 'mscoco_label_map.pbtxt')\n",
    "NUM_CLASSES = 90\n",
    "tar_file = tarfile.open(MODEL_FILE)\n",
    "# print(1)\n",
    "for file in tar_file.getmembers():\n",
    "    file_name = os.path.basename(file.name)\n",
    "    if 'frozen_inference_graph.pb' in file_name:\n",
    "#     if 'inception_v4.ckpt' in file_name:\n",
    "        tar_file.extract(file, os.getcwd())"
   ]
  },
  {
   "cell_type": "markdown",
   "metadata": {},
   "source": [
    "## Load a (frozen) Tensorflow model into memory."
   ]
  },
  {
   "cell_type": "code",
   "execution_count": null,
   "metadata": {},
   "outputs": [],
   "source": [
    "detection_graph = tf.Graph()\n",
    "with detection_graph.as_default():\n",
    "    od_graph_def = tf.GraphDef()\n",
    "    with tf.gfile.GFile(PATH_TO_CKPT, 'rb') as fid:\n",
    "        serialized_graph = fid.read()\n",
    "        od_graph_def.ParseFromString(serialized_graph)\n",
    "        tf.import_graph_def(od_graph_def, name='')"
   ]
  },
  {
   "cell_type": "markdown",
   "metadata": {},
   "source": [
    "## Loading label map"
   ]
  },
  {
   "cell_type": "code",
   "execution_count": null,
   "metadata": {},
   "outputs": [],
   "source": [
    "label_map = label_map_util.load_labelmap(PATH_TO_LABELS)\n",
    "categories = label_map_util.convert_label_map_to_categories(label_map, max_num_classes=NUM_CLASSES, use_display_name=True)\n",
    "category_index = label_map_util.create_category_index(categories)"
   ]
  },
  {
   "cell_type": "code",
   "execution_count": null,
   "metadata": {},
   "outputs": [],
   "source": [
    "namelist=[]\n",
    "indexlist=[]\n",
    "for i in category_index.values():\n",
    "    namelist.append(i['name'])\n",
    "    indexlist.append(i['id'])"
   ]
  },
  {
   "cell_type": "code",
   "execution_count": null,
   "metadata": {},
   "outputs": [],
   "source": [
    "# # test if video camera works\n",
    "\n",
    "# # from matplotlib import pyplot as plt\n",
    "# import cv2\n",
    "# cap=cv2.VideoCapture(0) # 0 stands for very first webcam attach\n",
    "# # https://www.youtube.com/watch?v=BUrR6BTx6Mk\n",
    "# filename=\"outputtest.avi\"#[place were i stored my output file]\n",
    "# codec=cv2.VideoWriter_fourcc('m','p','4','v')#fourcc stands for four character code\n",
    "# framerate=30\n",
    "# resolution=(640,480)\n",
    "\n",
    "# # item_lost = False\n",
    "# # item_lost = False\n",
    "# counter=0   \n",
    "# tmarker=0\n",
    "# VideoFileOutput=cv2.VideoWriter(filename,codec,framerate, resolution)\n",
    "    \n",
    "# with detection_graph.as_default():\n",
    "#     with tf.Session(graph=detection_graph) as sess:\n",
    "#         ret=True\n",
    "#         while (ret):\n",
    "\n",
    "#             ret, image_np=cap.read() \n",
    "\n",
    "#             VideoFileOutput.write(image_np)\n",
    "#             cv2.imshow('live_detection',image_np)\n",
    "#             print(\"Line hit 2\")\n",
    "#     #             plt.imshow(image_np)\n",
    "#     #             plt.show()\n",
    "#             if cv2.waitKey(25) & 0xFF==ord('q'):\n",
    "#                 break\n",
    "#                 cv2.destroyAllWindows()\n",
    "#                 cap.release()"
   ]
  },
  {
   "cell_type": "code",
   "execution_count": null,
   "metadata": {},
   "outputs": [],
   "source": [
    "# execution\n",
    "\n",
    "import cv2\n",
    "cap=cv2.VideoCapture(1) # 0 stands for very first webcam attach # 1 is for the Moverio device\n",
    "filename=\"outputtest.avi\"#[place were i stored my output file]\n",
    "codec=cv2.VideoWriter_fourcc('m','p','4','v')#fourcc stands for four character code\n",
    "framerate=30\n",
    "resolution=(640,480)\n",
    "\n",
    "item_lost = True\n",
    "# item_lost = False\n",
    "counter=0   \n",
    "tmarker=0\n",
    "VideoFileOutput=cv2.VideoWriter(filename,codec,framerate, resolution)\n",
    "    \n",
    "with detection_graph.as_default():\n",
    "    with tf.Session(graph=detection_graph) as sess:\n",
    "        ret=True\n",
    "        while (ret):\n",
    "\n",
    "            ret, image_np=cap.read() \n",
    "\n",
    "            f = open('output.txt', 'r')\n",
    "            x = [x.replace(\"\\n\", \"\") for x in f.readlines()][-1]\n",
    "            for i in range(len(namelist)):\n",
    "                if namelist[i] in x:\n",
    "    #                 print(content[i], i)\n",
    "                    tmarker=indexlist[i]\n",
    "    #         print(tmarker)\n",
    "\n",
    "            if tmarker != -1:\n",
    "                item_lost = True\n",
    "            if \"found\" in x:\n",
    "                tmarker=-1\n",
    "\n",
    "            # Definite input and output Tensors for detection_graph\n",
    "            image_tensor = detection_graph.get_tensor_by_name('image_tensor:0')\n",
    "            # Each box represents a part of the image where a particular object was detected.\n",
    "            detection_boxes = detection_graph.get_tensor_by_name('detection_boxes:0')\n",
    "            # Each score represent how level of confidence for each of the objects.\n",
    "            # Score is shown on the result image, together with the class label.\n",
    "            detection_scores = detection_graph.get_tensor_by_name('detection_scores:0')\n",
    "            detection_classes = detection_graph.get_tensor_by_name('detection_classes:0')\n",
    "            num_detections = detection_graph.get_tensor_by_name('num_detections:0')\n",
    "\n",
    "              # Expand dimensions since the model expects images to have shape: [1, None, None, 3]\n",
    "            image_np_expanded = np.expand_dims(image_np, axis=0)\n",
    "              # Actual detection.\n",
    "            (boxes, scores, classes, num) = sess.run(\n",
    "                  [detection_boxes, detection_scores, detection_classes, num_detections],\n",
    "                  feed_dict={image_tensor: image_np_expanded})\n",
    "              # Visualization of the results of a detection.\n",
    "            if item_lost:\n",
    "                image_np = vis_util.lost_item_mode(image_np,\n",
    "                  np.squeeze(boxes),\n",
    "                  np.squeeze(classes).astype(np.int32),\n",
    "                  np.squeeze(scores),\n",
    "                  category_index,\n",
    "                  use_normalized_coordinates=True,\n",
    "                  line_thickness=8,\n",
    "                  marker=tmarker)\n",
    "#                 cv2.imwrite(r'C:/Users/user/Desktop/Moverio-MemoryPalace-Instructions/Calhacks-5.0/Object-Detection-On-Live-Video-Feed/models/object_detection/data_images/img_'+str(counter)+'.jpg', image_np)\n",
    "                counter+=1\n",
    "            else:\n",
    "                image_np = vis_util.visualize_boxes_and_labels_on_image_array(\n",
    "                  image_np,\n",
    "                  np.squeeze(boxes),\n",
    "                  np.squeeze(classes).astype(np.int32),\n",
    "                  np.squeeze(scores),\n",
    "                  category_index,\n",
    "                  use_normalized_coordinates=True,\n",
    "                  line_thickness=8)\n",
    "#                 cv2.imwrite(r'C:/Users/user/Desktop/Moverio-MemoryPalace-Instructions/Calhacks-5.0/Object-Detection-On-Live-Video-Feed/models/object_detection/data_images/img_'+str(counter)+'.jpg', image_np)\n",
    "                counter+=1\n",
    "\n",
    "            VideoFileOutput.write(image_np)\n",
    "            cv2.imshow('live_detection',image_np)\n",
    "            if cv2.waitKey(25) & 0xFF==ord('q'):\n",
    "                break\n",
    "                cv2.destroyAllWindows()\n",
    "                cap.release()"
   ]
  },
  {
   "cell_type": "code",
   "execution_count": null,
   "metadata": {},
   "outputs": [],
   "source": []
  }
 ],
 "metadata": {
  "kernelspec": {
   "display_name": "tensorflowCUDA",
   "language": "python",
   "name": "tensorflowcuda"
  },
  "language_info": {
   "codemirror_mode": {
    "name": "ipython",
    "version": 3
   },
   "file_extension": ".py",
   "mimetype": "text/x-python",
   "name": "python",
   "nbconvert_exporter": "python",
   "pygments_lexer": "ipython3",
   "version": "3.6.8"
  }
 },
 "nbformat": 4,
 "nbformat_minor": 2
}
